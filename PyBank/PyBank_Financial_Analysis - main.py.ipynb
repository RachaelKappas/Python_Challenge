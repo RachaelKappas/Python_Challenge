{
 "cells": [
  {
   "cell_type": "code",
   "execution_count": 1,
   "id": "47a17e68-a025-4d00-8444-eea6977898bb",
   "metadata": {},
   "outputs": [
    {
     "name": "stdout",
     "output_type": "stream",
     "text": [
      "Financial Analysis\n",
      "----------------------------\n",
      "Total Months: 86\n",
      "Total: $22564198\n",
      "Average Change: $-8311.11\n",
      "Greatest Increase in Profits: Aug-16 ($1862002)\n",
      "Greatest Decrease in Profits: Feb-14 ($-1825558)\n"
     ]
    }
   ],
   "source": [
    "import csv\n",
    "\n",
    "with open('budget_data.csv') as file:\n",
    "    csv_reader = csv.reader(file)\n",
    "    header = next(csv_reader)  \n",
    "    data = list(csv_reader)\n",
    "\n",
    "#Initialize Variables\n",
    "total_months = len(data)\n",
    "net_total = 0\n",
    "changes = []\n",
    "dates = []\n",
    "\n",
    "#Total Months and Net Total\n",
    "for row in data:\n",
    "    net_total += int(row[1])\n",
    "\n",
    "#Changes and Store Dates\n",
    "for i in range(1, len(data)):\n",
    "    change = int(data[i][1]) - int(data[i - 1][1])\n",
    "    changes.append(change)\n",
    "    dates.append(data[i][0])\n",
    "\n",
    "#Average Change\n",
    "average_change = sum(changes) / len(changes)\n",
    "\n",
    "#Greatest Increase and Decrease\n",
    "greatest_increase = max(changes)\n",
    "greatest_decrease = min(changes)\n",
    "increase_date = dates[changes.index(greatest_increase)]\n",
    "decrease_date = dates[changes.index(greatest_decrease)]\n",
    "\n",
    "#Print the Analysis\n",
    "print(\"Financial Analysis\")\n",
    "print(\"----------------------------\")\n",
    "print(f\"Total Months: {total_months}\")\n",
    "print(f\"Total: ${net_total}\")\n",
    "print(f\"Average Change: ${average_change:.2f}\")\n",
    "print(f\"Greatest Increase in Profits: {increase_date} (${greatest_increase})\")\n",
    "print(f\"Greatest Decrease in Profits: {decrease_date} (${greatest_decrease})\")\n",
    "\n",
    "#Export Results to txt File\n",
    "with open('financial_analysis.txt', 'w') as output_file:\n",
    "    output_file.write(\"Financial Analysis\\n\")\n",
    "    output_file.write(\"----------------------------\\n\")\n",
    "    output_file.write(f\"Total Months: {total_months}\\n\")\n",
    "    output_file.write(f\"Total: ${net_total}\\n\")\n",
    "    output_file.write(f\"Average Change: ${average_change:.2f}\\n\")\n",
    "    output_file.write(f\"Greatest Increase in Profits: {increase_date} (${greatest_increase})\\n\")\n",
    "    output_file.write(f\"Greatest Decrease in Profits: {decrease_date} (${greatest_decrease})\\n\")\n",
    "\n",
    "\n",
    "\n",
    "\n"
   ]
  },
  {
   "cell_type": "code",
   "execution_count": null,
   "id": "5d102566-dc27-4b6c-9a44-fb1df61e6aa8",
   "metadata": {},
   "outputs": [],
   "source": []
  }
 ],
 "metadata": {
  "kernelspec": {
   "display_name": "Python 3 (ipykernel)",
   "language": "python",
   "name": "python3"
  },
  "language_info": {
   "codemirror_mode": {
    "name": "ipython",
    "version": 3
   },
   "file_extension": ".py",
   "mimetype": "text/x-python",
   "name": "python",
   "nbconvert_exporter": "python",
   "pygments_lexer": "ipython3",
   "version": "3.10.13"
  }
 },
 "nbformat": 4,
 "nbformat_minor": 5
}
