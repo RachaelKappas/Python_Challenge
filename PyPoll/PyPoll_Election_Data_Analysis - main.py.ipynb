{
 "cells": [
  {
   "cell_type": "code",
   "execution_count": 1,
   "id": "669ff3ff-ece4-4a29-85e2-af07affda035",
   "metadata": {},
   "outputs": [
    {
     "name": "stdout",
     "output_type": "stream",
     "text": [
      "Election Results\n",
      "-------------------------\n",
      "Total Votes: 369711\n",
      "-------------------------\n",
      "Charles Casper Stockham: 23.049% (85213)\n",
      "Diana DeGette: 73.812% (272892)\n",
      "Raymon Anthony Doane: 3.139% (11606)\n",
      "-------------------------\n",
      "Winner: Diana DeGette\n",
      "-------------------------\n"
     ]
    }
   ],
   "source": [
    "import pandas as pd\n",
    "\n",
    "df = pd.read_csv('election_data.csv')\n",
    "\n",
    "# Total Votes\n",
    "total_votes = len(df)\n",
    "\n",
    "# Candidates\n",
    "candidates = df['Candidate'].unique()\n",
    "\n",
    "# Percentage of Votes for Each Candidate\n",
    "candidate_votes = df['Candidate'].value_counts(normalize=True) * 100\n",
    "\n",
    "# Total Votes for Each Candidate\n",
    "total_candidate_votes = df['Candidate'].value_counts()\n",
    "\n",
    "# Winner\n",
    "winner = total_candidate_votes.idxmax()\n",
    "\n",
    "# Print the results\n",
    "print(\"Election Results\")\n",
    "print(\"-------------------------\")\n",
    "print(f\"Total Votes: {total_votes}\")\n",
    "print(\"-------------------------\")\n",
    "for candidate in candidates:\n",
    "    print(f\"{candidate}: {candidate_votes[candidate]:.3f}% ({total_candidate_votes[candidate]})\")\n",
    "print(\"-------------------------\")\n",
    "print(f\"Winner: {winner}\")\n",
    "print(\"-------------------------\")\n",
    "\n",
    "# Export results to a text file\n",
    "with open('election_results.txt', 'w') as file:\n",
    "    file.write(\"Election Results\\n\")\n",
    "    file.write(\"-------------------------\\n\")\n",
    "    file.write(f\"Total Votes: {total_votes}\\n\")\n",
    "    file.write(\"-------------------------\\n\")\n",
    "    for candidate in candidates:\n",
    "        file.write(f\"{candidate}: {candidate_votes[candidate]:.3f}% ({total_candidate_votes[candidate]})\\n\")\n",
    "    file.write(\"-------------------------\\n\")\n",
    "    file.write(f\"Winner: {winner}\\n\")\n",
    "    file.write(\"-------------------------\\n\")"
   ]
  },
  {
   "cell_type": "code",
   "execution_count": null,
   "id": "2421dd9b-c37f-4a04-8b36-163349d4fe93",
   "metadata": {},
   "outputs": [],
   "source": []
  }
 ],
 "metadata": {
  "kernelspec": {
   "display_name": "Python 3 (ipykernel)",
   "language": "python",
   "name": "python3"
  },
  "language_info": {
   "codemirror_mode": {
    "name": "ipython",
    "version": 3
   },
   "file_extension": ".py",
   "mimetype": "text/x-python",
   "name": "python",
   "nbconvert_exporter": "python",
   "pygments_lexer": "ipython3",
   "version": "3.10.13"
  }
 },
 "nbformat": 4,
 "nbformat_minor": 5
}
